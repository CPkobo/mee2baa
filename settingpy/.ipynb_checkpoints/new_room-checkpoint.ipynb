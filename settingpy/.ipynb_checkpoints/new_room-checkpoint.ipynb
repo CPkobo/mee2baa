{
 "cells": [
  {
   "cell_type": "code",
   "execution_count": 6,
   "metadata": {},
   "outputs": [
    {
     "name": "stdout",
     "output_type": "stream",
     "text": [
      "{'name': 'test3', 'userpw': {' ishida': 'sugoi', ' qiu': 'panda'}}\n"
     ]
    }
   ],
   "source": [
    "new_room = \"room.txt\"\n",
    "room_info = dict()\n",
    "userpw = dict()\n",
    "with open(\"room.txt\", \"r\", encoding=\"utf-8\") as f:\n",
    "    for line in f.readlines():\n",
    "        l = line.split(\",\")\n",
    "        if l[0] == \"room\":\n",
    "            room_info[\"name\"] = l[1].strip()\n",
    "        elif l[0] == \"key\":\n",
    "            room_info[\"key\"] = l[1].strip()\n",
    "        elif l[0] == \"user\":\n",
    "            userpw[l[1].strip()] = l[2].strip()\n",
    "        else:\n",
    "            continue\n",
    "\n",
    "room_info[\"userpw\"] = userpw\n",
    "print(room_info)"
   ]
  },
  {
   "cell_type": "code",
   "execution_count": null,
   "metadata": {},
   "outputs": [],
   "source": []
  },
  {
   "cell_type": "code",
   "execution_count": 2,
   "metadata": {},
   "outputs": [],
   "source": [
    "import requests\n",
    "\n",
    "my_dark = \"https://sheepy-meme.builtwithdark.com/\"\n",
    "meeting = dict()\n",
    "meeting[\"name\"] = \"test2\"\n",
    "meeting[\"key\"] = \"\"\n",
    "userpw = {\n",
    "    \"shi\": \"tian\",\n",
    "    \"qiu\": \"shiqi\",\n",
    "    \"bao\": \"dai\",\n",
    "    \"tian\": \"zhong\",\n",
    "    \"liu\": \"tana\",\n",
    "    \"tomi\": \"ta\"\n",
    "}\n",
    "meeting[\"userpw\"] = userpw"
   ]
  },
  {
   "cell_type": "code",
   "execution_count": null,
   "metadata": {},
   "outputs": [],
   "source": [
    "magic_word = input(\"acccess token\")\n",
    "key = input(\"key for skyway\")\n",
    "headers = { \"Content-Type\": \"application/json\", \"Authorization\": f\"Bearer {magic_word}\"}\n",
    "meeting[\"key\"] = key\n",
    "res = requests.post(f\"{my_dark}newsetting\", headers=headers, json=meeting)\n",
    "print(res.text)"
   ]
  },
  {
   "cell_type": "code",
   "execution_count": null,
   "metadata": {},
   "outputs": [],
   "source": []
  }
 ],
 "metadata": {
  "kernelspec": {
   "display_name": "Python 3",
   "language": "python",
   "name": "python3"
  },
  "language_info": {
   "codemirror_mode": {
    "name": "ipython",
    "version": 3
   },
   "file_extension": ".py",
   "mimetype": "text/x-python",
   "name": "python",
   "nbconvert_exporter": "python",
   "pygments_lexer": "ipython3",
   "version": "3.8.1"
  }
 },
 "nbformat": 4,
 "nbformat_minor": 4
}
